{
 "cells": [
  {
   "cell_type": "code",
   "execution_count": null,
   "metadata": {},
   "outputs": [],
   "source": [
    "import pandas as pd\n",
    "from sqlalchemy import create_engine\n",
    "import requests\n",
    "import lxml.html as lh\n",
    "from bs4 import BeautifulSoup\n",
    "import sqlalchemy\n",
    "from sqlalchemy.ext.automap import automap_base\n",
    "from sqlalchemy.orm import Session\n",
    "from sqlalchemy import create_engine, func\n",
    "from config import pw\n",
    "import time\n",
    "from splinter import Browser"
   ]
  },
  {
   "cell_type": "code",
   "execution_count": null,
   "metadata": {},
   "outputs": [],
   "source": [
    "executable_path = {'executable_path': 'chromedriver.exe'}\n",
    "browser = Browser('chrome', **executable_path, headless=False)"
   ]
  },
  {
   "cell_type": "code",
   "execution_count": null,
   "metadata": {},
   "outputs": [],
   "source": [
    "url = 'http://flavorsofcacao.com/usa_craft_makers.html'\n",
    "browser.visit(url)\n",
    "time.sleep(2)\n",
    "html = browser.html\n",
    "#print(html)\n",
    "bsoup = soup(html, 'html.parser')\n",
    "time.sleep(4)\n",
    "print(bsoup)\n",
    "results = bsoup.find(id=\"spryregion2\")\n",
    "results = results.find_all('table')[0]\n",
    "column_headers = ['Company','City', 'State', 'Owner/Maker']\n",
    "records = []\n",
    "for idy, row in enumerate(results.findAll('tr')):\n",
    "    if idy == 0:\n",
    "        continue\n",
    "    cols = row.findAll('td')\n",
    "    record = {}\n",
    "    for idx, col in enumerate(cols):\n",
    "        record[column_headers[idx]] = col.text.strip()\n",
    "    records.append(record)\n",
    "browser.quit()\n",
    "df = pd.DataFrame.from_dict(records)\n",
    "df.head()"
   ]
  }
 ],
 "metadata": {
  "kernelspec": {
   "display_name": "Python 3.8.3 64-bit ('PythonData': conda)",
   "language": "python",
   "name": "python38364bitpythondataconda5a1651f5006c42e28f55073acdf8b1f4"
  },
  "language_info": {
   "codemirror_mode": {
    "name": "ipython",
    "version": 3
   },
   "file_extension": ".py",
   "mimetype": "text/x-python",
   "name": "python",
   "nbconvert_exporter": "python",
   "pygments_lexer": "ipython3",
   "version": "3.8.3"
  }
 },
 "nbformat": 4,
 "nbformat_minor": 4
}
